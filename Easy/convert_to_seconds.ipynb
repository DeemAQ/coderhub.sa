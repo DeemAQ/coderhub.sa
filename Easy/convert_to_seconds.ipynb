{
 "cells": [
  {
   "cell_type": "markdown",
   "id": "7c80228c",
   "metadata": {},
   "source": [
    "# التحويل من الساعات إلى الثواني\n",
    "\n",
    "قم بكتابة دالة تستقبل عدد صحيح موجب من نوع يُمثل عدد الساعات. تقوم الدالة بتحويل عدد الساعات إلى الثواني وإرجاع النتيجة"
   ]
  },
  {
   "cell_type": "code",
   "execution_count": null,
   "id": "eaa27d94",
   "metadata": {},
   "outputs": [],
   "source": [
    "from typing import List\n",
    "def convert_to_seconds(hours: int) -> int:\n",
    "    return hours*60*60"
   ]
  }
 ],
 "metadata": {
  "kernelspec": {
   "display_name": "Python 3 (ipykernel)",
   "language": "python",
   "name": "python3"
  },
  "language_info": {
   "codemirror_mode": {
    "name": "ipython",
    "version": 3
   },
   "file_extension": ".py",
   "mimetype": "text/x-python",
   "name": "python",
   "nbconvert_exporter": "python",
   "pygments_lexer": "ipython3",
   "version": "3.9.12"
  }
 },
 "nbformat": 4,
 "nbformat_minor": 5
}
