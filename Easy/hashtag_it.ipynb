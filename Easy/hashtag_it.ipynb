{
 "cells": [
  {
   "cell_type": "markdown",
   "id": "b79ed0d9",
   "metadata": {},
   "source": [
    "# إضافة رمز هاشتاق لجميع حدود المصفوفة\n",
    "\n",
    "قم بكتابة دالة تستقبل مصفوفة من نوع نص. تقوم الدالة بإضافة الرمز # إلى جميع عناصر المصفوفة وإرجاع النتيجة كقيمة نصية."
   ]
  },
  {
   "cell_type": "code",
   "execution_count": 68,
   "id": "e4b17e53",
   "metadata": {},
   "outputs": [],
   "source": [
    "from typing import List\n",
    "def hashtag_it(my_array: List[str]) -> str:\n",
    "    for i in range(0, len(my_array)):\n",
    "        my_array[i] = \"#\" + my_array[i]\n",
    "        \n",
    "    return \" \".join(my_array)"
   ]
  }
 ],
 "metadata": {
  "kernelspec": {
   "display_name": "Python 3 (ipykernel)",
   "language": "python",
   "name": "python3"
  },
  "language_info": {
   "codemirror_mode": {
    "name": "ipython",
    "version": 3
   },
   "file_extension": ".py",
   "mimetype": "text/x-python",
   "name": "python",
   "nbconvert_exporter": "python",
   "pygments_lexer": "ipython3",
   "version": "3.9.12"
  }
 },
 "nbformat": 4,
 "nbformat_minor": 5
}
