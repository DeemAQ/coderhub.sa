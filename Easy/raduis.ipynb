{
 "cells": [
  {
   "cell_type": "markdown",
   "id": "a7836376",
   "metadata": {},
   "source": [
    "# نصف قطر الدائرة\n",
    "\n",
    "قم بكتابة دالة تستقبل عدد عشري موجب يُمثل محيط الدائرة. تقوم الـدالة بحساب نصف القطر وإرجاع نتيجته."
   ]
  },
  {
   "cell_type": "code",
   "execution_count": 1,
   "id": "79263adb",
   "metadata": {},
   "outputs": [],
   "source": [
    "from typing import List\n",
    "def raduis(circumference: float) -> float: # radius**\n",
    "    return circumference/(2*3.14) "
   ]
  }
 ],
 "metadata": {
  "kernelspec": {
   "display_name": "Python 3 (ipykernel)",
   "language": "python",
   "name": "python3"
  },
  "language_info": {
   "codemirror_mode": {
    "name": "ipython",
    "version": 3
   },
   "file_extension": ".py",
   "mimetype": "text/x-python",
   "name": "python",
   "nbconvert_exporter": "python",
   "pygments_lexer": "ipython3",
   "version": "3.9.12"
  }
 },
 "nbformat": 4,
 "nbformat_minor": 5
}
