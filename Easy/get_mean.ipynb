{
 "cells": [
  {
   "cell_type": "markdown",
   "id": "0b91b0b2",
   "metadata": {},
   "source": [
    "# متوسط المصفوفة\n",
    "\n",
    "قم بكتابة دالة تستقبل مصفوفة من نوع عدد صحيح. تقوم الـدالة بحساب معدل متوسط المصفوفة وإرجاع النتيجة."
   ]
  },
  {
   "cell_type": "code",
   "execution_count": null,
   "id": "f57f409e",
   "metadata": {},
   "outputs": [],
   "source": [
    "from typing import List\n",
    "def get_mean(arr: List[int]) -> float:\n",
    "    import numpy as np\n",
    "    return np.mean(arr)"
   ]
  }
 ],
 "metadata": {
  "kernelspec": {
   "display_name": "Python 3 (ipykernel)",
   "language": "python",
   "name": "python3"
  },
  "language_info": {
   "codemirror_mode": {
    "name": "ipython",
    "version": 3
   },
   "file_extension": ".py",
   "mimetype": "text/x-python",
   "name": "python",
   "nbconvert_exporter": "python",
   "pygments_lexer": "ipython3",
   "version": "3.9.12"
  }
 },
 "nbformat": 4,
 "nbformat_minor": 5
}
