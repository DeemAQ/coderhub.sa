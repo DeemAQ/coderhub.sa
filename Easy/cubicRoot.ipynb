{
  "nbformat": 4,
  "nbformat_minor": 0,
  "metadata": {
    "colab": {
      "name": "cubicRoot.ipynb",
      "provenance": [],
      "collapsed_sections": []
    },
    "kernelspec": {
      "name": "python3",
      "display_name": "Python 3"
    },
    "language_info": {
      "name": "python"
    }
  },
  "cells": [
    {
      "cell_type": "code",
      "execution_count": 12,
      "metadata": {
        "id": "0V1goFnJ2uiC"
      },
      "outputs": [],
      "source": [
        "from typing import List\n",
        "def cubicRoot(num: int) -> float:\n",
        "    return num**(1/3)"
      ]
    }
  ]
}