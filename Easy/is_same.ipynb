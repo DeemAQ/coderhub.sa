{
 "cells": [
  {
   "cell_type": "markdown",
   "id": "77c55767",
   "metadata": {},
   "source": [
    "النصوص المتشابهة\n",
    "\n",
    "قم بكتابة دالة تستقبل قيمتين نصية من نوع سترنق وتقوم بالتحقق فيما إذا كانتا متشابهتين أم غير متشابهتين."
   ]
  },
  {
   "cell_type": "code",
   "execution_count": null,
   "id": "f9031f3a",
   "metadata": {},
   "outputs": [],
   "source": [
    "from typing import List\n",
    "def is_same(name1: str, name2: str) -> str:\n",
    "    if name1 != name2:\n",
    "        return 'غير متشابهتين'\n",
    "    else:\n",
    "        return 'متشابهتين'"
   ]
  }
 ],
 "metadata": {
  "kernelspec": {
   "display_name": "Python 3 (ipykernel)",
   "language": "python",
   "name": "python3"
  },
  "language_info": {
   "codemirror_mode": {
    "name": "ipython",
    "version": 3
   },
   "file_extension": ".py",
   "mimetype": "text/x-python",
   "name": "python",
   "nbconvert_exporter": "python",
   "pygments_lexer": "ipython3",
   "version": "3.9.12"
  }
 },
 "nbformat": 4,
 "nbformat_minor": 5
}
