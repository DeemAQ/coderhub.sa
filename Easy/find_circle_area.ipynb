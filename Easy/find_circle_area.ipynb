{
 "cells": [
  {
   "cell_type": "markdown",
   "id": "dbc66922",
   "metadata": {},
   "source": [
    "# مساحة الدائرة\n",
    "\n",
    "قم بكتابة دالة تستقبل عدد عشري يُمثل نصف قطر الدائرة. تقوم الدالة بحساب مساحة الدائرة وإرجاع النتيجة."
   ]
  },
  {
   "cell_type": "code",
   "execution_count": 17,
   "id": "b077c37c",
   "metadata": {},
   "outputs": [],
   "source": [
    "from typing import List\n",
    "def find_circle_area(radius: float) -> float:\n",
    "    # from math import pi\n",
    "    return radius**2*3.14"
   ]
  }
 ],
 "metadata": {
  "kernelspec": {
   "display_name": "Python 3 (ipykernel)",
   "language": "python",
   "name": "python3"
  },
  "language_info": {
   "codemirror_mode": {
    "name": "ipython",
    "version": 3
   },
   "file_extension": ".py",
   "mimetype": "text/x-python",
   "name": "python",
   "nbconvert_exporter": "python",
   "pygments_lexer": "ipython3",
   "version": "3.9.12"
  }
 },
 "nbformat": 4,
 "nbformat_minor": 5
}
