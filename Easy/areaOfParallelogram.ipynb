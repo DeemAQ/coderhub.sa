{
 "cells": [
  {
   "cell_type": "markdown",
   "id": "c1dbc999",
   "metadata": {},
   "source": [
    "# مساحة متوازي الأضلاع\n",
    "\n",
    "قم بكتابة دالة تستقبل عددين عشريين، طول قاعدة متوازي الأضلاع وارتفاعه. تقوم هذه الدالة بحساب مساحة متوازي الأضلاع وإرجاع قيمته."
   ]
  },
  {
   "cell_type": "code",
   "execution_count": 1,
   "id": "a550d391",
   "metadata": {},
   "outputs": [],
   "source": [
    "from typing import List\n",
    "def areaOfParallelogram(height: float, base_value: float) -> float:\n",
    "    return height*base_value"
   ]
  }
 ],
 "metadata": {
  "kernelspec": {
   "display_name": "Python 3 (ipykernel)",
   "language": "python",
   "name": "python3"
  },
  "language_info": {
   "codemirror_mode": {
    "name": "ipython",
    "version": 3
   },
   "file_extension": ".py",
   "mimetype": "text/x-python",
   "name": "python",
   "nbconvert_exporter": "python",
   "pygments_lexer": "ipython3",
   "version": "3.9.12"
  }
 },
 "nbformat": 4,
 "nbformat_minor": 5
}
