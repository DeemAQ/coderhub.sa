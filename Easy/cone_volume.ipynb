{
 "cells": [
  {
   "cell_type": "markdown",
   "id": "450b0986",
   "metadata": {},
   "source": [
    "# حجم المخروط\n",
    "\n",
    "قم بكتابة دالة تستقبل عددين عشريين يُمثلان نصف قطر شكل مخروطي قائم وإرتفاعه. تقوم الدالة بحساب حجم المخروط وإرجاع النتيجة."
   ]
  },
  {
   "cell_type": "code",
   "execution_count": 1,
   "id": "1be1a740",
   "metadata": {},
   "outputs": [],
   "source": [
    "from typing import List\n",
    "def cone_volume(radius: float, height: float) -> float:\n",
    "    return (height*radius**2*3.14)/3"
   ]
  }
 ],
 "metadata": {
  "kernelspec": {
   "display_name": "Python 3 (ipykernel)",
   "language": "python",
   "name": "python3"
  },
  "language_info": {
   "codemirror_mode": {
    "name": "ipython",
    "version": 3
   },
   "file_extension": ".py",
   "mimetype": "text/x-python",
   "name": "python",
   "nbconvert_exporter": "python",
   "pygments_lexer": "ipython3",
   "version": "3.9.12"
  }
 },
 "nbformat": 4,
 "nbformat_minor": 5
}
