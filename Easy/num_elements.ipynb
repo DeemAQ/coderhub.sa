{
  "nbformat": 4,
  "nbformat_minor": 0,
  "metadata": {
    "colab": {
      "name": "num_elements.ipynb",
      "provenance": [],
      "collapsed_sections": []
    },
    "kernelspec": {
      "name": "python3",
      "display_name": "Python 3"
    },
    "language_info": {
      "name": "python"
    }
  },
  "cells": [
    {
      "cell_type": "code",
      "execution_count": 79,
      "metadata": {
        "id": "0V1goFnJ2uiC"
      },
      "outputs": [],
      "source": [
        "from typing import List\n",
        "def num_elements(my_array: List[int]) -> int:\n",
        "    return len(my_array)"
      ]
    }
  ]
}