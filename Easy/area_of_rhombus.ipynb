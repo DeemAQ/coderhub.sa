{
 "cells": [
  {
   "cell_type": "markdown",
   "id": "a5458deb",
   "metadata": {},
   "source": [
    "# مساحة المعين\n",
    "\n",
    "قم بكتابة دالة تستقبل عددين عشريين من نوع فلوت يُمثلان طولا قُطريّ المعين. تقوم الدالة بحساب مساحة المعين وإرجاع نتيجته."
   ]
  },
  {
   "cell_type": "code",
   "execution_count": 1,
   "id": "73997640",
   "metadata": {},
   "outputs": [],
   "source": [
    "from typing import List\n",
    "def area_of_rhombus(q: float, p: float) -> float:\n",
    "    return 0.5*q*p"
   ]
  }
 ],
 "metadata": {
  "kernelspec": {
   "display_name": "Python 3 (ipykernel)",
   "language": "python",
   "name": "python3"
  },
  "language_info": {
   "codemirror_mode": {
    "name": "ipython",
    "version": 3
   },
   "file_extension": ".py",
   "mimetype": "text/x-python",
   "name": "python",
   "nbconvert_exporter": "python",
   "pygments_lexer": "ipython3",
   "version": "3.9.12"
  }
 },
 "nbformat": 4,
 "nbformat_minor": 5
}
