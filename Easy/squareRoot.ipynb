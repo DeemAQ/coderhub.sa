{
  "nbformat": 4,
  "nbformat_minor": 0,
  "metadata": {
    "colab": {
      "name": "squareRoot.ipynb",
      "provenance": [],
      "collapsed_sections": []
    },
    "kernelspec": {
      "name": "python3",
      "display_name": "Python 3"
    },
    "language_info": {
      "name": "python"
    }
  },
  "cells": [
    {
      "cell_type": "code",
      "execution_count": 7,
      "metadata": {
        "id": "0V1goFnJ2uiC"
      },
      "outputs": [],
      "source": [
        "from typing import List\n",
        "def squareRoot(num: float) -> float:\n",
        "    from math import sqrt\n",
        "    return sqrt(num)"
      ]
    }
  ]
}