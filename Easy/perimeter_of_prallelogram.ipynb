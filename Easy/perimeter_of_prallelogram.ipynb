{
  "nbformat": 4,
  "nbformat_minor": 0,
  "metadata": {
    "colab": {
      "name": "perimeter_of_prallelogram.ipynb",
      "provenance": [],
      "collapsed_sections": []
    },
    "kernelspec": {
      "name": "python3",
      "display_name": "Python 3"
    },
    "language_info": {
      "name": "python"
    }
  },
  "cells": [
    {
      "cell_type": "code",
      "execution_count": 83,
      "metadata": {
        "id": "0V1goFnJ2uiC"
      },
      "outputs": [],
      "source": [
        "from typing import List\n",
        "def perimeter_of_prallelogram(base_value: float, length: float) -> float:\n",
        "    return 2*(base_value+length)"
      ]
    }
  ]
}