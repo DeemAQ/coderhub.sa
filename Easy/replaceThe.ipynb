{
  "nbformat": 4,
  "nbformat_minor": 0,
  "metadata": {
    "colab": {
      "name": "replaceThe.ipynb",
      "provenance": [],
      "collapsed_sections": []
    },
    "kernelspec": {
      "name": "python3",
      "display_name": "Python 3"
    },
    "language_info": {
      "name": "python"
    }
  },
  "cells": [
    {
      "cell_type": "code",
      "execution_count": 78,
      "metadata": {
        "id": "0V1goFnJ2uiC"
      },
      "outputs": [],
      "source": [
        "from typing import List\n",
        "def replaceThe(txt: str) -> str:\n",
        "    text = txt.split()\n",
        "    for i in range(len(text)):\n",
        "      if text[i] == \"the\":\n",
        "          if text[i+1].startswith((\"a\", \"e\", \"o\", \"i\", \"u\")):\n",
        "              text[i] = \"an\"\n",
        "          else:\n",
        "              text[i] = \"a\"\n",
        "\n",
        "    return \" \".join(text)"
      ]
    }
  ]
}