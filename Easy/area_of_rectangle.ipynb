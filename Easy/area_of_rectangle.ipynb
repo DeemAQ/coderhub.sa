{
 "cells": [
  {
   "cell_type": "markdown",
   "id": "213a2e97",
   "metadata": {},
   "source": [
    "# مساحة المستطيل\n",
    "\n",
    "قم بكتابة دالة تستقبل عددين صحيحين موجبين من نوع انتجر يمثلان قيم الطول والعرض للمستطيل. تقوم الدالة بحساب مساحة المستطيل وإرجاع نتيجته."
   ]
  },
  {
   "cell_type": "code",
   "execution_count": 1,
   "id": "7e6c7353",
   "metadata": {},
   "outputs": [],
   "source": [
    "from typing import List\n",
    "def area_of_rectangle(width: int, height: int) -> int:\n",
    "    return width*height"
   ]
  }
 ],
 "metadata": {
  "kernelspec": {
   "display_name": "Python 3 (ipykernel)",
   "language": "python",
   "name": "python3"
  },
  "language_info": {
   "codemirror_mode": {
    "name": "ipython",
    "version": 3
   },
   "file_extension": ".py",
   "mimetype": "text/x-python",
   "name": "python",
   "nbconvert_exporter": "python",
   "pygments_lexer": "ipython3",
   "version": "3.9.12"
  }
 },
 "nbformat": 4,
 "nbformat_minor": 5
}
