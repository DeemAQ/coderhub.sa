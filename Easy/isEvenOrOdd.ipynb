{
 "cells": [
  {
   "cell_type": "markdown",
   "id": "b058162e",
   "metadata": {},
   "source": [
    "# تحديد نوع الرقم المدخل\n",
    "\n",
    "قم بكتابة دالة تستقبل عدد صحيح تقوم الدالة بإرجاع القيمة  في حال كان العدد فردي، والقيمة في حال العدد زوجي"
   ]
  },
  {
   "cell_type": "code",
   "execution_count": 1,
   "id": "c74602d7",
   "metadata": {},
   "outputs": [],
   "source": [
    "from typing import List\n",
    "def isEvenOrOdd(num: int) -> str:\n",
    "    if num%2==0:\n",
    "        return \"even\"\n",
    "    else:\n",
    "        return \"odd\""
   ]
  }
 ],
 "metadata": {
  "kernelspec": {
   "display_name": "Python 3 (ipykernel)",
   "language": "python",
   "name": "python3"
  },
  "language_info": {
   "codemirror_mode": {
    "name": "ipython",
    "version": 3
   },
   "file_extension": ".py",
   "mimetype": "text/x-python",
   "name": "python",
   "nbconvert_exporter": "python",
   "pygments_lexer": "ipython3",
   "version": "3.9.12"
  }
 },
 "nbformat": 4,
 "nbformat_minor": 5
}
