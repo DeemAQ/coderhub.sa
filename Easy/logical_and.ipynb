{
 "cells": [
  {
   "cell_type": "markdown",
   "id": "732982d6",
   "metadata": {},
   "source": [
    "# بوابة الضرب المنطقي\n",
    "\n",
    "قم بكتابة دالة تستقبل متغيرين من نوع بوليان. تقوم الدالة بقيام العملية اند على المُتغيرين وإرجاع النتيجة."
   ]
  },
  {
   "cell_type": "code",
   "execution_count": null,
   "id": "518f5458",
   "metadata": {},
   "outputs": [],
   "source": [
    "from typing import List\n",
    "def logical_and(a: bool, b: bool) -> bool:\n",
    "    return a and b"
   ]
  }
 ],
 "metadata": {
  "kernelspec": {
   "display_name": "Python 3 (ipykernel)",
   "language": "python",
   "name": "python3"
  },
  "language_info": {
   "codemirror_mode": {
    "name": "ipython",
    "version": 3
   },
   "file_extension": ".py",
   "mimetype": "text/x-python",
   "name": "python",
   "nbconvert_exporter": "python",
   "pygments_lexer": "ipython3",
   "version": "3.9.12"
  }
 },
 "nbformat": 4,
 "nbformat_minor": 5
}
