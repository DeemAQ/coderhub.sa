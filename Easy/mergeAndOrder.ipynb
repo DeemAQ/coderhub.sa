{
  "nbformat": 4,
  "nbformat_minor": 0,
  "metadata": {
    "colab": {
      "name": "mergeAndOrder.ipynb",
      "provenance": [],
      "collapsed_sections": []
    },
    "kernelspec": {
      "name": "python3",
      "display_name": "Python 3"
    },
    "language_info": {
      "name": "python"
    }
  },
  "cells": [
    {
      "cell_type": "code",
      "execution_count": 21,
      "metadata": {
        "colab": {
          "base_uri": "https://localhost:8080/"
        },
        "id": "0V1goFnJ2uiC",
        "outputId": "5b88aa0c-ce9b-402f-fb14-b658edb14bd4"
      },
      "outputs": [
        {
          "output_type": "stream",
          "name": "stdout",
          "text": [
            "[0, 1, 2, 6]\n"
          ]
        }
      ],
      "source": [
        "from typing import List\n",
        "def mergeAndOrder(array1: List[int], array2: List[int]) -> List[int]:\n",
        "    arr = array1 + array2\n",
        "    arr.sort()\n",
        "    return arr"
      ]
    }
  ]
}