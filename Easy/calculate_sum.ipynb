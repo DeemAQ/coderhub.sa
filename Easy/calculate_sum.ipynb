{
 "cells": [
  {
   "cell_type": "markdown",
   "id": "fa9815fc",
   "metadata": {},
   "source": [
    "# مجموع المصفوفة\n",
    "\n",
    "قُم بكتابة دالة تستقبل مصفوفة من 4 أرقام. تقوم الدالة بحساب مجموع عناصر تلك المصفوفة وإرجاع النتيجة. في حال كان أحد أرقام المصفوفة يساوي 7، فجميع الأرقام بعد ذلك الرقم لا يتم احتسابه في المجموع الكلي."
   ]
  },
  {
   "cell_type": "code",
   "execution_count": 1,
   "id": "4506bd35",
   "metadata": {},
   "outputs": [],
   "source": [
    "from typing import List\n",
    "def calculate_sum(lst: List[int]) -> int:\n",
    "    if 7 in lst:\n",
    "        return 0\n",
    "    else:\n",
    "        return sum(lst)"
   ]
  }
 ],
 "metadata": {
  "kernelspec": {
   "display_name": "Python 3 (ipykernel)",
   "language": "python",
   "name": "python3"
  },
  "language_info": {
   "codemirror_mode": {
    "name": "ipython",
    "version": 3
   },
   "file_extension": ".py",
   "mimetype": "text/x-python",
   "name": "python",
   "nbconvert_exporter": "python",
   "pygments_lexer": "ipython3",
   "version": "3.9.12"
  }
 },
 "nbformat": 4,
 "nbformat_minor": 5
}
