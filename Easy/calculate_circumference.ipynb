{
 "cells": [
  {
   "cell_type": "markdown",
   "id": "219564e1",
   "metadata": {},
   "source": [
    "# محيط الدائرة\n",
    "\n",
    "قم بكتابة دالة تستقبل عدد عشري يُمثل نصف قطر الدائرة. تقوم الدالة بحساب محيط الدائرة وإرجاع النتيجة."
   ]
  },
  {
   "cell_type": "code",
   "execution_count": 5,
   "id": "4f111801",
   "metadata": {},
   "outputs": [],
   "source": [
    "from typing import List\n",
    "def calculate_circumference(radius: float) -> float:\n",
    "    from math import pi\n",
    "    return radius*2*pi"
   ]
  }
 ],
 "metadata": {
  "kernelspec": {
   "display_name": "Python 3 (ipykernel)",
   "language": "python",
   "name": "python3"
  },
  "language_info": {
   "codemirror_mode": {
    "name": "ipython",
    "version": 3
   },
   "file_extension": ".py",
   "mimetype": "text/x-python",
   "name": "python",
   "nbconvert_exporter": "python",
   "pygments_lexer": "ipython3",
   "version": "3.9.12"
  }
 },
 "nbformat": 4,
 "nbformat_minor": 5
}
